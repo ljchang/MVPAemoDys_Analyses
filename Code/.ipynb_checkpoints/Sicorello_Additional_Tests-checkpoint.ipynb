{
 "cells": [
  {
   "cell_type": "markdown",
   "metadata": {},
   "source": [
    "# Run additional tests on Sicorello et al. preprint data\n",
    "- [Preprint](https://www.medrxiv.org/content/10.1101/2021.02.03.21251077v1.full-text)\n",
    "- [Dataset](https://github.com/MaurizioSicorello/MVPAemoDys_Analyses)\n"
   ]
  },
  {
   "cell_type": "code",
   "execution_count": 123,
   "metadata": {
    "ExecuteTime": {
     "end_time": "2021-02-11T23:25:48.488286Z",
     "start_time": "2021-02-11T23:25:48.482813Z"
    }
   },
   "outputs": [],
   "source": [
    "%matplotlib inline\n",
    "\n",
    "import os\n",
    "import numpy as np\n",
    "import pandas as pd\n",
    "import matplotlib.pyplot as plt\n",
    "import seaborn as sns\n",
    "from nltools.data import Brain_Data, Adjacency\n",
    "from nltools.stats import threshold\n",
    "from nltools.mask import expand_mask\n",
    "from pymer4.models import Lm, Lmer\n",
    "\n",
    "\n",
    "base_dir = '/Users/lukechang/Github/MVPAemoDys_Analyses/'"
   ]
  },
  {
   "cell_type": "code",
   "execution_count": 166,
   "metadata": {
    "ExecuteTime": {
     "end_time": "2021-02-11T23:50:32.164817Z",
     "start_time": "2021-02-11T23:50:32.132781Z"
    }
   },
   "outputs": [
    {
     "data": {
      "text/html": [
       "<div>\n",
       "<style scoped>\n",
       "    .dataframe tbody tr th:only-of-type {\n",
       "        vertical-align: middle;\n",
       "    }\n",
       "\n",
       "    .dataframe tbody tr th {\n",
       "        vertical-align: top;\n",
       "    }\n",
       "\n",
       "    .dataframe thead th {\n",
       "        text-align: right;\n",
       "    }\n",
       "</style>\n",
       "<table border=\"1\" class=\"dataframe\">\n",
       "  <thead>\n",
       "    <tr style=\"text-align: right;\">\n",
       "      <th></th>\n",
       "      <th>ID</th>\n",
       "      <th>NegPines</th>\n",
       "      <th>NeutPines</th>\n",
       "      <th>NegViewAmyR</th>\n",
       "      <th>NeutViewAmyR</th>\n",
       "      <th>NegViewAmyStriatR</th>\n",
       "      <th>NeutViewAmyStriatR</th>\n",
       "      <th>NegViewAmyL</th>\n",
       "      <th>NeutViewAmyL</th>\n",
       "      <th>NegViewAmyHippL</th>\n",
       "      <th>...</th>\n",
       "      <th>NegViewKragelSad</th>\n",
       "      <th>NeutViewKragelSad</th>\n",
       "      <th>NegViewKragelSurprised</th>\n",
       "      <th>NeutViewKragelSurprised</th>\n",
       "      <th>study</th>\n",
       "      <th>run</th>\n",
       "      <th>rundescr</th>\n",
       "      <th>group</th>\n",
       "      <th>med_bin</th>\n",
       "      <th>NegVNeu_Pines</th>\n",
       "    </tr>\n",
       "  </thead>\n",
       "  <tbody>\n",
       "    <tr>\n",
       "      <th>0</th>\n",
       "      <td>1</td>\n",
       "      <td>3.699178</td>\n",
       "      <td>2.298523</td>\n",
       "      <td>0.185534</td>\n",
       "      <td>-0.617607</td>\n",
       "      <td>-0.154609</td>\n",
       "      <td>-0.391623</td>\n",
       "      <td>-0.284434</td>\n",
       "      <td>-0.765143</td>\n",
       "      <td>0.057052</td>\n",
       "      <td>...</td>\n",
       "      <td>0.219886</td>\n",
       "      <td>1.207439</td>\n",
       "      <td>10.391170</td>\n",
       "      <td>5.705316</td>\n",
       "      <td>ewmt</td>\n",
       "      <td>1</td>\n",
       "      <td>only_run</td>\n",
       "      <td>PTSD</td>\n",
       "      <td>1</td>\n",
       "      <td>1.400655</td>\n",
       "    </tr>\n",
       "    <tr>\n",
       "      <th>1</th>\n",
       "      <td>2</td>\n",
       "      <td>6.529484</td>\n",
       "      <td>3.837654</td>\n",
       "      <td>3.709618</td>\n",
       "      <td>2.956326</td>\n",
       "      <td>1.804343</td>\n",
       "      <td>1.246959</td>\n",
       "      <td>3.165085</td>\n",
       "      <td>2.016855</td>\n",
       "      <td>2.214303</td>\n",
       "      <td>...</td>\n",
       "      <td>-1.463477</td>\n",
       "      <td>-0.546377</td>\n",
       "      <td>13.075072</td>\n",
       "      <td>11.599843</td>\n",
       "      <td>ewmt</td>\n",
       "      <td>1</td>\n",
       "      <td>only_run</td>\n",
       "      <td>PTSD</td>\n",
       "      <td>0</td>\n",
       "      <td>2.691830</td>\n",
       "    </tr>\n",
       "    <tr>\n",
       "      <th>2</th>\n",
       "      <td>3</td>\n",
       "      <td>4.680291</td>\n",
       "      <td>1.502163</td>\n",
       "      <td>1.208177</td>\n",
       "      <td>-1.513596</td>\n",
       "      <td>0.979599</td>\n",
       "      <td>-0.179145</td>\n",
       "      <td>0.915030</td>\n",
       "      <td>-2.031368</td>\n",
       "      <td>0.823471</td>\n",
       "      <td>...</td>\n",
       "      <td>-3.327803</td>\n",
       "      <td>-2.255531</td>\n",
       "      <td>9.952443</td>\n",
       "      <td>9.931742</td>\n",
       "      <td>ewmt</td>\n",
       "      <td>1</td>\n",
       "      <td>only_run</td>\n",
       "      <td>PTSD</td>\n",
       "      <td>1</td>\n",
       "      <td>3.178128</td>\n",
       "    </tr>\n",
       "    <tr>\n",
       "      <th>3</th>\n",
       "      <td>4</td>\n",
       "      <td>-1.457909</td>\n",
       "      <td>-1.611831</td>\n",
       "      <td>-2.123461</td>\n",
       "      <td>-1.943405</td>\n",
       "      <td>-2.429051</td>\n",
       "      <td>-1.314551</td>\n",
       "      <td>-1.497567</td>\n",
       "      <td>-2.182068</td>\n",
       "      <td>-0.969083</td>\n",
       "      <td>...</td>\n",
       "      <td>-4.887822</td>\n",
       "      <td>-5.549086</td>\n",
       "      <td>8.502635</td>\n",
       "      <td>4.521690</td>\n",
       "      <td>ewmt</td>\n",
       "      <td>1</td>\n",
       "      <td>only_run</td>\n",
       "      <td>PTSD</td>\n",
       "      <td>1</td>\n",
       "      <td>0.153922</td>\n",
       "    </tr>\n",
       "    <tr>\n",
       "      <th>4</th>\n",
       "      <td>5</td>\n",
       "      <td>7.201664</td>\n",
       "      <td>7.424095</td>\n",
       "      <td>2.638709</td>\n",
       "      <td>2.655824</td>\n",
       "      <td>2.774511</td>\n",
       "      <td>3.687431</td>\n",
       "      <td>6.163799</td>\n",
       "      <td>7.236422</td>\n",
       "      <td>5.177392</td>\n",
       "      <td>...</td>\n",
       "      <td>-3.346959</td>\n",
       "      <td>-3.132273</td>\n",
       "      <td>8.702096</td>\n",
       "      <td>5.398829</td>\n",
       "      <td>ewmt</td>\n",
       "      <td>1</td>\n",
       "      <td>only_run</td>\n",
       "      <td>PTSD</td>\n",
       "      <td>0</td>\n",
       "      <td>-0.222431</td>\n",
       "    </tr>\n",
       "  </tbody>\n",
       "</table>\n",
       "<p>5 rows × 33 columns</p>\n",
       "</div>"
      ],
      "text/plain": [
       "   ID  NegPines  NeutPines  NegViewAmyR  NeutViewAmyR  NegViewAmyStriatR  \\\n",
       "0   1  3.699178   2.298523     0.185534     -0.617607          -0.154609   \n",
       "1   2  6.529484   3.837654     3.709618      2.956326           1.804343   \n",
       "2   3  4.680291   1.502163     1.208177     -1.513596           0.979599   \n",
       "3   4 -1.457909  -1.611831    -2.123461     -1.943405          -2.429051   \n",
       "4   5  7.201664   7.424095     2.638709      2.655824           2.774511   \n",
       "\n",
       "   NeutViewAmyStriatR  NegViewAmyL  NeutViewAmyL  NegViewAmyHippL  ...  \\\n",
       "0           -0.391623    -0.284434     -0.765143         0.057052  ...   \n",
       "1            1.246959     3.165085      2.016855         2.214303  ...   \n",
       "2           -0.179145     0.915030     -2.031368         0.823471  ...   \n",
       "3           -1.314551    -1.497567     -2.182068        -0.969083  ...   \n",
       "4            3.687431     6.163799      7.236422         5.177392  ...   \n",
       "\n",
       "   NegViewKragelSad  NeutViewKragelSad  NegViewKragelSurprised  \\\n",
       "0          0.219886           1.207439               10.391170   \n",
       "1         -1.463477          -0.546377               13.075072   \n",
       "2         -3.327803          -2.255531                9.952443   \n",
       "3         -4.887822          -5.549086                8.502635   \n",
       "4         -3.346959          -3.132273                8.702096   \n",
       "\n",
       "   NeutViewKragelSurprised  study  run  rundescr  group  med_bin  \\\n",
       "0                 5.705316   ewmt    1  only_run   PTSD        1   \n",
       "1                11.599843   ewmt    1  only_run   PTSD        0   \n",
       "2                 9.931742   ewmt    1  only_run   PTSD        1   \n",
       "3                 4.521690   ewmt    1  only_run   PTSD        1   \n",
       "4                 5.398829   ewmt    1  only_run   PTSD        0   \n",
       "\n",
       "   NegVNeu_Pines  \n",
       "0       1.400655  \n",
       "1       2.691830  \n",
       "2       3.178128  \n",
       "3       0.153922  \n",
       "4      -0.222431  \n",
       "\n",
       "[5 rows x 33 columns]"
      ]
     },
     "execution_count": 166,
     "metadata": {},
     "output_type": "execute_result"
    }
   ],
   "source": [
    "data = pd.read_csv(os.path.join(base_dir, 'Data', 'Preprocessed_Data', 'EmoPattern_neuralData.csv'))\n",
    "data['NegVNeu_Pines'] = data['NegPines'] - data['NeutPines']\n",
    "data.head()"
   ]
  },
  {
   "cell_type": "markdown",
   "metadata": {
    "ExecuteTime": {
     "end_time": "2021-02-11T03:30:35.182869Z",
     "start_time": "2021-02-11T03:30:35.180104Z"
    }
   },
   "source": [
    "# Forced Choice Accuracy\n",
    "Accuracy in Chang et al., 2015 used *Forced Choice* Accuracy, which controls for within subject variation. A quick check indicates very comparable performance in discriminating between negative vs neutral in Sicorello Dataset."
   ]
  },
  {
   "cell_type": "code",
   "execution_count": 167,
   "metadata": {
    "ExecuteTime": {
     "end_time": "2021-02-11T23:50:34.338335Z",
     "start_time": "2021-02-11T23:50:34.326632Z"
    }
   },
   "outputs": [
    {
     "data": {
      "text/plain": [
       "study   group     run\n",
       "emoreg  BPD       1      1.000000\n",
       "                  2      1.000000\n",
       "                  3      1.000000\n",
       "        HC        1      1.000000\n",
       "                  2      1.000000\n",
       "                  3      0.964286\n",
       "ewmt    HC        1      0.878788\n",
       "        PTSD      1      0.870968\n",
       "        TC        1      0.933333\n",
       "react   BPDacute  1      0.950000\n",
       "                  2      0.900000\n",
       "                  3      1.000000\n",
       "        BPDremit  1      1.000000\n",
       "                  2      0.920000\n",
       "                  3      1.000000\n",
       "        HC        1      1.000000\n",
       "                  2      0.950000\n",
       "                  3      1.000000\n",
       "Name: NegVNeu_FC, dtype: float64"
      ]
     },
     "execution_count": 167,
     "metadata": {},
     "output_type": "execute_result"
    }
   ],
   "source": [
    "data['NegVNeu_FC'] = data['NegPines'] > data['NeutPines']\n",
    "\n",
    "data.groupby(['study','group','run']).mean()['NegVNeu_FC']"
   ]
  },
  {
   "cell_type": "markdown",
   "metadata": {},
   "source": [
    "## Let's collapse runs within group and study\n",
    "\n",
    "According to Maurizio Sicorello there are run mean differences that should be accounted for. Let's ZScore the Neg_v_Neu values within each run for each condition-study."
   ]
  },
  {
   "cell_type": "code",
   "execution_count": 185,
   "metadata": {
    "ExecuteTime": {
     "end_time": "2021-02-11T23:57:21.743426Z",
     "start_time": "2021-02-11T23:57:21.227734Z"
    }
   },
   "outputs": [
    {
     "name": "stderr",
     "output_type": "stream",
     "text": [
      "/Users/lukechang/anaconda3/lib/python3.7/site-packages/ipykernel_launcher.py:7: SettingWithCopyWarning: \n",
      "A value is trying to be set on a copy of a slice from a DataFrame.\n",
      "Try using .loc[row_indexer,col_indexer] = value instead\n",
      "\n",
      "See the caveats in the documentation: https://pandas.pydata.org/pandas-docs/stable/user_guide/indexing.html#returning-a-view-versus-a-copy\n",
      "  import sys\n"
     ]
    },
    {
     "name": "stdout",
     "output_type": "stream",
     "text": [
      "study   group   \n",
      "emoreg  BPD         1.000000\n",
      "        HC          0.988095\n",
      "ewmt    HC          0.878788\n",
      "        PTSD        0.870968\n",
      "        TC          0.933333\n",
      "react   BPDacute    0.950000\n",
      "        BPDremit    0.974026\n",
      "        HC          0.983333\n",
      "Name: NegVNeu_FC, dtype: float64\n"
     ]
    },
    {
     "data": {
      "text/plain": [
       "<seaborn.axisgrid.FacetGrid at 0x7fa44a929810>"
      ]
     },
     "execution_count": 185,
     "metadata": {},
     "output_type": "execute_result"
    },
    {
     "data": {
      "image/png": "[encoded data removed]",
      "text/plain": [
       "<Figure size 444.625x360 with 1 Axes>"
      ]
     },
     "metadata": {
      "needs_background": "light"
     },
     "output_type": "display_data"
    }
   ],
   "source": [
    "zscore = lambda x: (x - x.mean()) / x.std()\n",
    "\n",
    "data_run_avg = []\n",
    "for study in data['study'].unique():\n",
    "    for group in data.query('study==@study')['group'].unique():\n",
    "        dat = data.query('study==@study & group==@group')\n",
    "        dat['NegVNeu_Pines_Z'] = dat['NegVNeu_Pines'] - dat['NegVNeu_Pines'].groupby(dat['run']).transform(zscore)\n",
    "        tmp = dat.groupby('ID').mean()\n",
    "        tmp['study'] = study\n",
    "        tmp['group'] = group\n",
    "        data_run_avg.append(tmp)\n",
    "data_run_avg = pd.concat(data_run_avg, axis=0)\n",
    "data_run_avg['ID'] = data_run_avg.index\n",
    "\n",
    "print(data.groupby(['study','group']).mean()['NegVNeu_FC'])\n",
    "\n",
    "sns.catplot(data=data_run_avg, x='study', y='NegVNeu_FC', hue='group', kind='bar')"
   ]
  },
  {
   "cell_type": "code",
   "execution_count": 186,
   "metadata": {
    "ExecuteTime": {
     "end_time": "2021-02-11T23:57:24.332866Z",
     "start_time": "2021-02-11T23:57:23.912389Z"
    }
   },
   "outputs": [
    {
     "data": {
      "text/plain": [
       "<seaborn.axisgrid.FacetGrid at 0x7fa411b42050>"
      ]
     },
     "execution_count": 186,
     "metadata": {},
     "output_type": "execute_result"
    },
    {
     "data": {
      "image/png": "[encoded data removed]",
      "text/plain": [
       "<Figure size 444.625x360 with 1 Axes>"
      ]
     },
     "metadata": {
      "needs_background": "light"
     },
     "output_type": "display_data"
    }
   ],
   "source": [
    "sns.catplot(data=data_run_avg, x='study', y='NegVNeu_Pines_Z', hue='group', kind='bar')"
   ]
  },
  {
   "cell_type": "markdown",
   "metadata": {},
   "source": [
    "# Disorder Specific Discrepancy between Predicted and Observed Ratings?\n",
    "Not sure if Sicorello et al, collected subjective ratings for each trial, but one interesting analysis they could try is assessing if there is a discrepancy between the PINES model in predicting ratings as a function of clinical group or status.\n",
    "\n",
    "This idea is equivalent to the *Moderation by demographic variables* analysis from Chang et al., 2015.\n",
    "\n",
    "Single trial data or rating average data were not available in the Sicorello Github repository for me to test, but might be interesting to explore in future."
   ]
  },
  {
   "cell_type": "markdown",
   "metadata": {},
   "source": [
    "# Pattern Similarity vs Pattern Expression\n",
    "Sicorello et al., used the dot product, which we tend to refer to as *pattern expression*. However, due to baseline differences this approach can be noisy when applied to new datasets. We often use normalized or standardized pattern similarity by using spatial pearson or spearman rho correlations rather than dot-product.\n",
    "\n",
    "This could be interesting to see if it impacts results if Sicorello et al., share their imaging data so that we could run different first level models."
   ]
  },
  {
   "cell_type": "markdown",
   "metadata": {},
   "source": [
    "# Look at Negative vs Neutral comparisons between groups across studies\n",
    "It looks like there is a significant difference between groups in \"react\" study"
   ]
  },
  {
   "cell_type": "code",
   "execution_count": 187,
   "metadata": {
    "ExecuteTime": {
     "end_time": "2021-02-11T23:57:33.034383Z",
     "start_time": "2021-02-11T23:57:33.017778Z"
    }
   },
   "outputs": [
    {
     "name": "stdout",
     "output_type": "stream",
     "text": [
      "['ewmt' 'emoreg' 'react']\n"
     ]
    },
    {
     "data": {
      "text/html": [
       "<div>\n",
       "<style scoped>\n",
       "    .dataframe tbody tr th:only-of-type {\n",
       "        vertical-align: middle;\n",
       "    }\n",
       "\n",
       "    .dataframe tbody tr th {\n",
       "        vertical-align: top;\n",
       "    }\n",
       "\n",
       "    .dataframe thead th {\n",
       "        text-align: right;\n",
       "    }\n",
       "</style>\n",
       "<table border=\"1\" class=\"dataframe\">\n",
       "  <thead>\n",
       "    <tr style=\"text-align: right;\">\n",
       "      <th></th>\n",
       "      <th>ID</th>\n",
       "      <th>study</th>\n",
       "      <th>group</th>\n",
       "      <th>med_bin</th>\n",
       "      <th>variable</th>\n",
       "      <th>value</th>\n",
       "    </tr>\n",
       "  </thead>\n",
       "  <tbody>\n",
       "    <tr>\n",
       "      <th>0</th>\n",
       "      <td>1</td>\n",
       "      <td>ewmt</td>\n",
       "      <td>PTSD</td>\n",
       "      <td>1</td>\n",
       "      <td>NegVNeu_Pines</td>\n",
       "      <td>1.400655</td>\n",
       "    </tr>\n",
       "    <tr>\n",
       "      <th>1</th>\n",
       "      <td>2</td>\n",
       "      <td>ewmt</td>\n",
       "      <td>PTSD</td>\n",
       "      <td>0</td>\n",
       "      <td>NegVNeu_Pines</td>\n",
       "      <td>2.691830</td>\n",
       "    </tr>\n",
       "    <tr>\n",
       "      <th>2</th>\n",
       "      <td>3</td>\n",
       "      <td>ewmt</td>\n",
       "      <td>PTSD</td>\n",
       "      <td>1</td>\n",
       "      <td>NegVNeu_Pines</td>\n",
       "      <td>3.178128</td>\n",
       "    </tr>\n",
       "    <tr>\n",
       "      <th>3</th>\n",
       "      <td>4</td>\n",
       "      <td>ewmt</td>\n",
       "      <td>PTSD</td>\n",
       "      <td>1</td>\n",
       "      <td>NegVNeu_Pines</td>\n",
       "      <td>0.153922</td>\n",
       "    </tr>\n",
       "    <tr>\n",
       "      <th>4</th>\n",
       "      <td>5</td>\n",
       "      <td>ewmt</td>\n",
       "      <td>PTSD</td>\n",
       "      <td>0</td>\n",
       "      <td>NegVNeu_Pines</td>\n",
       "      <td>-0.222431</td>\n",
       "    </tr>\n",
       "  </tbody>\n",
       "</table>\n",
       "</div>"
      ],
      "text/plain": [
       "   ID study group  med_bin       variable     value\n",
       "0   1  ewmt  PTSD        1  NegVNeu_Pines  1.400655\n",
       "1   2  ewmt  PTSD        0  NegVNeu_Pines  2.691830\n",
       "2   3  ewmt  PTSD        1  NegVNeu_Pines  3.178128\n",
       "3   4  ewmt  PTSD        1  NegVNeu_Pines  0.153922\n",
       "4   5  ewmt  PTSD        0  NegVNeu_Pines -0.222431"
      ]
     },
     "execution_count": 187,
     "metadata": {},
     "output_type": "execute_result"
    }
   ],
   "source": [
    "data_run_avg_long = data_run_avg.melt(id_vars=['ID', 'study', 'group','med_bin'], value_vars=['NegVNeu_Pines', 'NegVNeu_Pines_Z', 'NegPines', 'NeutPines'])\n",
    "\n",
    "print(data_run_avg_long['study'].unique())\n",
    "\n",
    "data_run_avg_long.head()\n"
   ]
  },
  {
   "cell_type": "code",
   "execution_count": 188,
   "metadata": {
    "ExecuteTime": {
     "end_time": "2021-02-11T23:57:37.422109Z",
     "start_time": "2021-02-11T23:57:37.351357Z"
    }
   },
   "outputs": [
    {
     "name": "stdout",
     "output_type": "stream",
     "text": [
      "\n",
      "STUDY: ewmt\n",
      "Formula: value~group\n",
      "\n",
      "Family: gaussian\t Estimator: OLS\n",
      "\n",
      "Std-errors: non-robust\tCIs: standard 95%\tInference: parametric \n",
      "\n",
      "Number of observations: 125\t R^2: 0.075\t R^2_adj: 0.060\n",
      "\n",
      "Log-likelihood: -97.884 \t AIC: 201.768\t BIC: 210.253\n",
      "\n",
      "Fixed effects:\n",
      "\n",
      "               Estimate  2.5_ci  97.5_ci     SE   DF  T-stat  P-val  Sig\n",
      "Intercept         1.766   1.581    1.951  0.093  122  18.930  0.000  ***\n",
      "group[T.PTSD]     0.255   0.026    0.484  0.115  122   2.209  0.029    *\n",
      "group[T.TC]      -0.084  -0.352    0.184  0.135  122  -0.620  0.536     \n",
      "\n",
      "STUDY: emoreg\n",
      "Formula: value~group\n",
      "\n",
      "Family: gaussian\t Estimator: OLS\n",
      "\n",
      "Std-errors: non-robust\tCIs: standard 95%\tInference: parametric \n",
      "\n",
      "Number of observations: 57\t R^2: 0.000\t R^2_adj: -0.018\n",
      "\n",
      "Log-likelihood: -55.494 \t AIC: 114.988\t BIC: 119.074\n",
      "\n",
      "Fixed effects:\n",
      "\n",
      "             Estimate  2.5_ci  97.5_ci     SE  DF  T-stat  P-val  Sig\n",
      "Intercept       0.439   0.196    0.682  0.121  55   3.627  0.001  ***\n",
      "group[T.HC]     0.011  -0.335    0.357  0.173  55   0.063  0.950     \n",
      "\n",
      "STUDY: react\n",
      "Formula: value~group\n",
      "\n",
      "Family: gaussian\t Estimator: OLS\n",
      "\n",
      "Std-errors: non-robust\tCIs: standard 95%\tInference: parametric \n",
      "\n",
      "Number of observations: 66\t R^2: 0.573\t R^2_adj: 0.560\n",
      "\n",
      "Log-likelihood: 19.346 \t AIC: -32.692\t BIC: -26.123\n",
      "\n",
      "Fixed effects:\n",
      "\n",
      "                   Estimate  2.5_ci  97.5_ci     SE  DF  T-stat  P-val  Sig\n",
      "Intercept             1.597   1.515    1.680  0.041  63  38.667    0.0  ***\n",
      "group[T.BPDremit]     0.401   0.291    0.510  0.055  63   7.293    0.0  ***\n",
      "group[T.HC]           0.504   0.387    0.621  0.058  63   8.627    0.0  ***\n"
     ]
    }
   ],
   "source": [
    "\n",
    "for study in data_run_avg_long['study'].unique():\n",
    "    print(f\"\\nSTUDY: {study}\")\n",
    "    model = Lm(\"value ~ group\", data=data_run_avg_long.query('variable==\"NegVNeu_Pines_Z\"&study==@study'))\n",
    "\n",
    "    print(model.fit())"
   ]
  },
  {
   "cell_type": "code",
   "execution_count": 203,
   "metadata": {
    "ExecuteTime": {
     "end_time": "2021-02-12T00:01:54.756787Z",
     "start_time": "2021-02-12T00:01:54.341156Z"
    }
   },
   "outputs": [
    {
     "data": {
      "text/plain": [
       "<seaborn.axisgrid.FacetGrid at 0x7fa439ba96d0>"
      ]
     },
     "execution_count": 203,
     "metadata": {},
     "output_type": "execute_result"
    },
    {
     "data": {
      "image/png": "[encoded data removed]",
      "text/plain": [
       "<Figure size 444.625x360 with 1 Axes>"
      ]
     },
     "metadata": {
      "needs_background": "light"
     },
     "output_type": "display_data"
    }
   ],
   "source": [
    "sns.catplot(data=data, x='study', y='NegVNeu_Pines', hue='group', kind='bar', ci=68)"
   ]
  },
  {
   "cell_type": "markdown",
   "metadata": {},
   "source": [
    "## Look at same comparison only with non-medicated participants"
   ]
  },
  {
   "cell_type": "code",
   "execution_count": 192,
   "metadata": {
    "ExecuteTime": {
     "end_time": "2021-02-11T23:58:04.755251Z",
     "start_time": "2021-02-11T23:58:04.682259Z"
    }
   },
   "outputs": [
    {
     "name": "stdout",
     "output_type": "stream",
     "text": [
      "\n",
      "STUDY: ewmt\n",
      "Formula: value~group\n",
      "\n",
      "Family: gaussian\t Estimator: OLS\n",
      "\n",
      "Std-errors: non-robust\tCIs: standard 95%\tInference: parametric \n",
      "\n",
      "Number of observations: 91\t R^2: 0.035\t R^2_adj: 0.013\n",
      "\n",
      "Log-likelihood: -44.650 \t AIC: 95.301\t BIC: 102.833\n",
      "\n",
      "Fixed effects:\n",
      "\n",
      "               Estimate  2.5_ci  97.5_ci     SE  DF  T-stat  P-val  Sig\n",
      "Intercept         1.766   1.627    1.905  0.070  88  25.242   0.00  ***\n",
      "group[T.PTSD]     0.103  -0.102    0.309  0.103  88   1.000   0.32     \n",
      "group[T.TC]      -0.084  -0.285    0.118  0.101  88  -0.827   0.41     \n",
      "\n",
      "STUDY: emoreg\n",
      "Formula: value~group\n",
      "\n",
      "Family: gaussian\t Estimator: OLS\n",
      "\n",
      "Std-errors: non-robust\tCIs: standard 95%\tInference: parametric \n",
      "\n",
      "Number of observations: 53\t R^2: 0.000\t R^2_adj: -0.019\n",
      "\n",
      "Log-likelihood: -52.955 \t AIC: 109.909\t BIC: 113.850\n",
      "\n",
      "Fixed effects:\n",
      "\n",
      "             Estimate  2.5_ci  97.5_ci     SE  DF  T-stat  P-val Sig\n",
      "Intercept       0.431   0.162     0.70  0.134  51   3.214  0.002  **\n",
      "group[T.HC]     0.019  -0.351     0.39  0.184  51   0.105  0.916    \n",
      "\n",
      "STUDY: react\n",
      "Formula: value~group\n",
      "\n",
      "Family: gaussian\t Estimator: OLS\n",
      "\n",
      "Std-errors: non-robust\tCIs: standard 95%\tInference: parametric \n",
      "\n",
      "Number of observations: 64\t R^2: 0.565\t R^2_adj: 0.551\n",
      "\n",
      "Log-likelihood: 18.443 \t AIC: -30.885\t BIC: -24.408\n",
      "\n",
      "Fixed effects:\n",
      "\n",
      "                   Estimate  2.5_ci  97.5_ci     SE  DF  T-stat  P-val  Sig\n",
      "Intercept             1.594   1.506    1.681  0.044  61  36.387    0.0  ***\n",
      "group[T.BPDremit]     0.404   0.291    0.518  0.057  61   7.100    0.0  ***\n",
      "group[T.HC]           0.508   0.387    0.629  0.060  61   8.412    0.0  ***\n"
     ]
    }
   ],
   "source": [
    "for study in data_run_avg_long['study'].unique():\n",
    "    print(f\"\\nSTUDY: {study}\")\n",
    "    model = Lm(\"value ~ group\", data=data_run_avg_long.query('variable==\"NegVNeu_Pines_Z\"&study==@study&med_bin==\"0\"'))\n",
    "\n",
    "    print(model.fit())"
   ]
  },
  {
   "cell_type": "code",
   "execution_count": 202,
   "metadata": {
    "ExecuteTime": {
     "end_time": "2021-02-12T00:01:09.310389Z",
     "start_time": "2021-02-12T00:01:08.970591Z"
    }
   },
   "outputs": [
    {
     "data": {
      "image/png": "[encoded data removed]",
      "text/plain": [
       "<Figure size 360x360 with 1 Axes>"
      ]
     },
     "metadata": {
      "needs_background": "light"
     },
     "output_type": "display_data"
    }
   ],
   "source": [
    "with sns.plotting_context(context='paper', font_scale=2):\n",
    "    sns.catplot(data=data_run_avg_long.query('variable==\"NegVNeu_Pines_Z\"&study==\"react\"'), x='group', y='value', kind='bar', ci=68)\n",
    "    plt.ylabel('Negative Vs Neutral PINES')\n",
    "    plt.tight_layout()\n",
    "    plt.savefig(os.path.join(base_dir,'Figures','Study3_NegVNeu_PINES.png'), dpi=200)\n",
    "    plt.savefig(os.path.join(base_dir,'Figures','Study3_NegVNeu_PINES.pdf'))"
   ]
  },
  {
   "cell_type": "code",
   "execution_count": null,
   "metadata": {},
   "outputs": [],
   "source": []
  }
 ],
 "metadata": {
  "kernelspec": {
   "display_name": "Python 3.7.7 64-bit ('base': conda)",
   "language": "python",
   "name": "python37764bitbaseconda668a19539d4e488a990d2e1ac0a9ce49"
  },
  "language_info": {
   "codemirror_mode": {
    "name": "ipython",
    "version": 3
   },
   "file_extension": ".py",
   "mimetype": "text/x-python",
   "name": "python",
   "nbconvert_exporter": "python",
   "pygments_lexer": "ipython3",
   "version": "3.7.9"
  },
  "toc": {
   "base_numbering": 1,
   "nav_menu": {},
   "number_sections": true,
   "sideBar": true,
   "skip_h1_title": false,
   "title_cell": "Table of Contents",
   "title_sidebar": "Contents",
   "toc_cell": false,
   "toc_position": {},
   "toc_section_display": true,
   "toc_window_display": true
  }
 },
 "nbformat": 4,
 "nbformat_minor": 4
}
