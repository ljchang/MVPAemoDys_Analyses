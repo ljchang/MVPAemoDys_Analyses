{
 "cells": [
  {
   "cell_type": "markdown",
   "metadata": {},
   "source": [
    "# Run additional tests on Sicorello et al. preprint data\n",
    "- [Preprint](https://www.medrxiv.org/content/10.1101/2021.02.03.21251077v1.full-text)\n",
    "- [Dataset](https://github.com/MaurizioSicorello/MVPAemoDys_Analyses)\n"
   ]
  },
  {
   "cell_type": "code",
   "execution_count": 1,
   "metadata": {
    "ExecuteTime": {
     "end_time": "2021-02-11T03:20:29.462467Z",
     "start_time": "2021-02-11T03:20:16.072349Z"
    }
   },
   "outputs": [],
   "source": [
    "%matplotlib inline\n",
    "\n",
    "import os\n",
    "import numpy as np\n",
    "import pandas as pd\n",
    "import matplotlib.pyplot as plt\n",
    "import seaborn as sns\n",
    "from nltools.data import Brain_Data, Adjacency\n",
    "from nltools.stats import threshold\n",
    "from nltools.mask import expand_mask\n",
    "from pymer4.models import Lm, Lmer\n",
    "\n",
    "\n",
    "base_dir = '/Users/lukechang/Github/MVPAemoDys_Analyses/'"
   ]
  },
  {
   "cell_type": "code",
   "execution_count": 98,
   "metadata": {
    "ExecuteTime": {
     "end_time": "2021-02-11T04:36:57.281714Z",
     "start_time": "2021-02-11T04:36:57.253452Z"
    }
   },
   "outputs": [
    {
     "data": {
      "text/html": [
       "<div>\n",
       "<style scoped>\n",
       "    .dataframe tbody tr th:only-of-type {\n",
       "        vertical-align: middle;\n",
       "    }\n",
       "\n",
       "    .dataframe tbody tr th {\n",
       "        vertical-align: top;\n",
       "    }\n",
       "\n",
       "    .dataframe thead th {\n",
       "        text-align: right;\n",
       "    }\n",
       "</style>\n",
       "<table border=\"1\" class=\"dataframe\">\n",
       "  <thead>\n",
       "    <tr style=\"text-align: right;\">\n",
       "      <th></th>\n",
       "      <th>ID</th>\n",
       "      <th>NegPines</th>\n",
       "      <th>NeutPines</th>\n",
       "      <th>NegViewAmyR</th>\n",
       "      <th>NeutViewAmyR</th>\n",
       "      <th>NegViewAmyStriatR</th>\n",
       "      <th>NeutViewAmyStriatR</th>\n",
       "      <th>NegViewAmyL</th>\n",
       "      <th>NeutViewAmyL</th>\n",
       "      <th>NegViewAmyHippL</th>\n",
       "      <th>...</th>\n",
       "      <th>NegViewKragelSad</th>\n",
       "      <th>NeutViewKragelSad</th>\n",
       "      <th>NegViewKragelSurprised</th>\n",
       "      <th>NeutViewKragelSurprised</th>\n",
       "      <th>study</th>\n",
       "      <th>run</th>\n",
       "      <th>rundescr</th>\n",
       "      <th>group</th>\n",
       "      <th>med_bin</th>\n",
       "      <th>NegVNeu_Pines</th>\n",
       "    </tr>\n",
       "  </thead>\n",
       "  <tbody>\n",
       "    <tr>\n",
       "      <th>0</th>\n",
       "      <td>1</td>\n",
       "      <td>3.699178</td>\n",
       "      <td>2.298523</td>\n",
       "      <td>0.185534</td>\n",
       "      <td>-0.617607</td>\n",
       "      <td>-0.154609</td>\n",
       "      <td>-0.391623</td>\n",
       "      <td>-0.284434</td>\n",
       "      <td>-0.765143</td>\n",
       "      <td>0.057052</td>\n",
       "      <td>...</td>\n",
       "      <td>0.219886</td>\n",
       "      <td>1.207439</td>\n",
       "      <td>10.391170</td>\n",
       "      <td>5.705316</td>\n",
       "      <td>ewmt</td>\n",
       "      <td>1</td>\n",
       "      <td>only_run</td>\n",
       "      <td>PTSD</td>\n",
       "      <td>1</td>\n",
       "      <td>1.400655</td>\n",
       "    </tr>\n",
       "    <tr>\n",
       "      <th>1</th>\n",
       "      <td>2</td>\n",
       "      <td>6.529484</td>\n",
       "      <td>3.837654</td>\n",
       "      <td>3.709618</td>\n",
       "      <td>2.956326</td>\n",
       "      <td>1.804343</td>\n",
       "      <td>1.246959</td>\n",
       "      <td>3.165085</td>\n",
       "      <td>2.016855</td>\n",
       "      <td>2.214303</td>\n",
       "      <td>...</td>\n",
       "      <td>-1.463477</td>\n",
       "      <td>-0.546377</td>\n",
       "      <td>13.075072</td>\n",
       "      <td>11.599843</td>\n",
       "      <td>ewmt</td>\n",
       "      <td>1</td>\n",
       "      <td>only_run</td>\n",
       "      <td>PTSD</td>\n",
       "      <td>0</td>\n",
       "      <td>2.691830</td>\n",
       "    </tr>\n",
       "    <tr>\n",
       "      <th>2</th>\n",
       "      <td>3</td>\n",
       "      <td>4.680291</td>\n",
       "      <td>1.502163</td>\n",
       "      <td>1.208177</td>\n",
       "      <td>-1.513596</td>\n",
       "      <td>0.979599</td>\n",
       "      <td>-0.179145</td>\n",
       "      <td>0.915030</td>\n",
       "      <td>-2.031368</td>\n",
       "      <td>0.823471</td>\n",
       "      <td>...</td>\n",
       "      <td>-3.327803</td>\n",
       "      <td>-2.255531</td>\n",
       "      <td>9.952443</td>\n",
       "      <td>9.931742</td>\n",
       "      <td>ewmt</td>\n",
       "      <td>1</td>\n",
       "      <td>only_run</td>\n",
       "      <td>PTSD</td>\n",
       "      <td>1</td>\n",
       "      <td>3.178128</td>\n",
       "    </tr>\n",
       "    <tr>\n",
       "      <th>3</th>\n",
       "      <td>4</td>\n",
       "      <td>-1.457909</td>\n",
       "      <td>-1.611831</td>\n",
       "      <td>-2.123461</td>\n",
       "      <td>-1.943405</td>\n",
       "      <td>-2.429051</td>\n",
       "      <td>-1.314551</td>\n",
       "      <td>-1.497567</td>\n",
       "      <td>-2.182068</td>\n",
       "      <td>-0.969083</td>\n",
       "      <td>...</td>\n",
       "      <td>-4.887822</td>\n",
       "      <td>-5.549086</td>\n",
       "      <td>8.502635</td>\n",
       "      <td>4.521690</td>\n",
       "      <td>ewmt</td>\n",
       "      <td>1</td>\n",
       "      <td>only_run</td>\n",
       "      <td>PTSD</td>\n",
       "      <td>1</td>\n",
       "      <td>0.153922</td>\n",
       "    </tr>\n",
       "    <tr>\n",
       "      <th>4</th>\n",
       "      <td>5</td>\n",
       "      <td>7.201664</td>\n",
       "      <td>7.424095</td>\n",
       "      <td>2.638709</td>\n",
       "      <td>2.655824</td>\n",
       "      <td>2.774511</td>\n",
       "      <td>3.687431</td>\n",
       "      <td>6.163799</td>\n",
       "      <td>7.236422</td>\n",
       "      <td>5.177392</td>\n",
       "      <td>...</td>\n",
       "      <td>-3.346959</td>\n",
       "      <td>-3.132273</td>\n",
       "      <td>8.702096</td>\n",
       "      <td>5.398829</td>\n",
       "      <td>ewmt</td>\n",
       "      <td>1</td>\n",
       "      <td>only_run</td>\n",
       "      <td>PTSD</td>\n",
       "      <td>0</td>\n",
       "      <td>-0.222431</td>\n",
       "    </tr>\n",
       "  </tbody>\n",
       "</table>\n",
       "<p>5 rows × 33 columns</p>\n",
       "</div>"
      ],
      "text/plain": [
       "   ID  NegPines  NeutPines  NegViewAmyR  NeutViewAmyR  NegViewAmyStriatR  \\\n",
       "0   1  3.699178   2.298523     0.185534     -0.617607          -0.154609   \n",
       "1   2  6.529484   3.837654     3.709618      2.956326           1.804343   \n",
       "2   3  4.680291   1.502163     1.208177     -1.513596           0.979599   \n",
       "3   4 -1.457909  -1.611831    -2.123461     -1.943405          -2.429051   \n",
       "4   5  7.201664   7.424095     2.638709      2.655824           2.774511   \n",
       "\n",
       "   NeutViewAmyStriatR  NegViewAmyL  NeutViewAmyL  NegViewAmyHippL  ...  \\\n",
       "0           -0.391623    -0.284434     -0.765143         0.057052  ...   \n",
       "1            1.246959     3.165085      2.016855         2.214303  ...   \n",
       "2           -0.179145     0.915030     -2.031368         0.823471  ...   \n",
       "3           -1.314551    -1.497567     -2.182068        -0.969083  ...   \n",
       "4            3.687431     6.163799      7.236422         5.177392  ...   \n",
       "\n",
       "   NegViewKragelSad  NeutViewKragelSad  NegViewKragelSurprised  \\\n",
       "0          0.219886           1.207439               10.391170   \n",
       "1         -1.463477          -0.546377               13.075072   \n",
       "2         -3.327803          -2.255531                9.952443   \n",
       "3         -4.887822          -5.549086                8.502635   \n",
       "4         -3.346959          -3.132273                8.702096   \n",
       "\n",
       "   NeutViewKragelSurprised  study  run  rundescr  group  med_bin  \\\n",
       "0                 5.705316   ewmt    1  only_run   PTSD        1   \n",
       "1                11.599843   ewmt    1  only_run   PTSD        0   \n",
       "2                 9.931742   ewmt    1  only_run   PTSD        1   \n",
       "3                 4.521690   ewmt    1  only_run   PTSD        1   \n",
       "4                 5.398829   ewmt    1  only_run   PTSD        0   \n",
       "\n",
       "   NegVNeu_Pines  \n",
       "0       1.400655  \n",
       "1       2.691830  \n",
       "2       3.178128  \n",
       "3       0.153922  \n",
       "4      -0.222431  \n",
       "\n",
       "[5 rows x 33 columns]"
      ]
     },
     "execution_count": 98,
     "metadata": {},
     "output_type": "execute_result"
    }
   ],
   "source": [
    "data = pd.read_csv(os.path.join(base_dir, 'Data', 'Preprocessed_Data', 'EmoPattern_neuralData.csv'))\n",
    "data['NegVNeu_Pines'] = data['NegPines'] - data['NeutPines']\n",
    "\n",
    "data.head()"
   ]
  },
  {
   "cell_type": "markdown",
   "metadata": {
    "ExecuteTime": {
     "end_time": "2021-02-11T03:30:35.182869Z",
     "start_time": "2021-02-11T03:30:35.180104Z"
    }
   },
   "source": [
    "# Forced Choice Accuracy\n",
    "Accuracy in Chang et al., 2015 used *Forced Choice* Accuracy, which controls for within subject variation. A quick check indicates very comparable performance in discriminating between negative vs neutral in Sicorello Dataset."
   ]
  },
  {
   "cell_type": "code",
   "execution_count": 100,
   "metadata": {
    "ExecuteTime": {
     "end_time": "2021-02-11T04:37:06.981078Z",
     "start_time": "2021-02-11T04:37:06.971168Z"
    }
   },
   "outputs": [
    {
     "data": {
      "text/plain": [
       "study   group     run\n",
       "emoreg  BPD       1      1.000000\n",
       "                  2      1.000000\n",
       "                  3      1.000000\n",
       "        HC        1      1.000000\n",
       "                  2      1.000000\n",
       "                  3      0.964286\n",
       "ewmt    HC        1      0.878788\n",
       "        PTSD      1      0.870968\n",
       "        TC        1      0.933333\n",
       "react   BPDacute  1      0.950000\n",
       "                  2      0.900000\n",
       "                  3      1.000000\n",
       "        BPDremit  1      1.000000\n",
       "                  2      0.920000\n",
       "                  3      1.000000\n",
       "        HC        1      1.000000\n",
       "                  2      0.950000\n",
       "                  3      1.000000\n",
       "Name: NegVNeu_FC, dtype: float64"
      ]
     },
     "execution_count": 100,
     "metadata": {},
     "output_type": "execute_result"
    }
   ],
   "source": [
    "data['NegVNeu_FC'] = data['NegPines'] > data['NeutPines']\n",
    "\n",
    "data.groupby(['study','group','run']).mean()['NegVNeu_FC']"
   ]
  },
  {
   "cell_type": "markdown",
   "metadata": {},
   "source": [
    "## Let's collapse runs within group and study"
   ]
  },
  {
   "cell_type": "code",
   "execution_count": 101,
   "metadata": {
    "ExecuteTime": {
     "end_time": "2021-02-11T04:37:09.673767Z",
     "start_time": "2021-02-11T04:37:09.132843Z"
    }
   },
   "outputs": [
    {
     "name": "stdout",
     "output_type": "stream",
     "text": [
      "study   group   \n",
      "emoreg  BPD         1.000000\n",
      "        HC          0.988095\n",
      "ewmt    HC          0.878788\n",
      "        PTSD        0.870968\n",
      "        TC          0.933333\n",
      "react   BPDacute    0.950000\n",
      "        BPDremit    0.974026\n",
      "        HC          0.983333\n",
      "Name: NegVNeu_FC, dtype: float64\n"
     ]
    },
    {
     "data": {
      "text/plain": [
       "<seaborn.axisgrid.FacetGrid at 0x7fa410e4ff10>"
      ]
     },
     "execution_count": 101,
     "metadata": {},
     "output_type": "execute_result"
    },
    {
     "data": {
      "image/png": "[encoded data removed]",
      "text/plain": [
       "<Figure size 444.625x360 with 1 Axes>"
      ]
     },
     "metadata": {
      "needs_background": "light"
     },
     "output_type": "display_data"
    }
   ],
   "source": [
    "data_run_avg = []\n",
    "for study in data['study'].unique():\n",
    "    for group in data.query('study==@study')['group'].unique():\n",
    "        tmp = data.query('study==@study & group==@group').groupby('ID').mean()\n",
    "        tmp['study'] = study\n",
    "        tmp['group'] = group\n",
    "        data_run_avg.append(tmp)\n",
    "data_run_avg = pd.concat(data_run_avg, axis=0)\n",
    "data_run_avg['ID'] = data_run_avg.index\n",
    "\n",
    "print(data.groupby(['study','group']).mean()['NegVNeu_FC'])\n",
    "\n",
    "sns.catplot(data=data_run_avg, x='study', y='NegVNeu_FC', hue='group', kind='bar')"
   ]
  },
  {
   "cell_type": "markdown",
   "metadata": {},
   "source": [
    "# Disorder Specific Discrepancy between Predicted and Observed Ratings?\n",
    "Not sure if Sicorello et al, collected subjective ratings for each trial, but one interesting analysis they could try is assessing if there is a discrepancy between the PINES model in predicting ratings as a function of clinical group or status.\n",
    "\n",
    "This idea is equivalent to the *Moderation by demographic variables* analysis from Chang et al., 2015.\n",
    "\n",
    "Single trial data or rating average data were not available in the Sicorello Github repository for me to test, but might be interesting to explore in future."
   ]
  },
  {
   "cell_type": "markdown",
   "metadata": {},
   "source": [
    "# Pattern Similarity vs Pattern Expression\n",
    "Sicorello et al., used the dot product, which we tend to refer to as *pattern expression*. However, due to baseline differences this approach can be noisy when applied to new datasets. We often use normalized or standardized pattern similarity by using spatial pearson or spearman rho correlations rather than dot-product.\n",
    "\n",
    "This could be interesting to see if it impacts results if Sicorello et al., share their imaging data so that we could run different first level models."
   ]
  },
  {
   "cell_type": "markdown",
   "metadata": {},
   "source": [
    "# Look at Negative vs Neutral comparisons between groups across studies\n",
    "It looks like there is a significant difference between groups in \"react\" study"
   ]
  },
  {
   "cell_type": "code",
   "execution_count": 102,
   "metadata": {
    "ExecuteTime": {
     "end_time": "2021-02-11T04:37:15.917475Z",
     "start_time": "2021-02-11T04:37:15.896393Z"
    }
   },
   "outputs": [
    {
     "name": "stdout",
     "output_type": "stream",
     "text": [
      "['ewmt' 'emoreg' 'react']\n"
     ]
    },
    {
     "data": {
      "text/html": [
       "<div>\n",
       "<style scoped>\n",
       "    .dataframe tbody tr th:only-of-type {\n",
       "        vertical-align: middle;\n",
       "    }\n",
       "\n",
       "    .dataframe tbody tr th {\n",
       "        vertical-align: top;\n",
       "    }\n",
       "\n",
       "    .dataframe thead th {\n",
       "        text-align: right;\n",
       "    }\n",
       "</style>\n",
       "<table border=\"1\" class=\"dataframe\">\n",
       "  <thead>\n",
       "    <tr style=\"text-align: right;\">\n",
       "      <th></th>\n",
       "      <th>ID</th>\n",
       "      <th>study</th>\n",
       "      <th>group</th>\n",
       "      <th>med_bin</th>\n",
       "      <th>variable</th>\n",
       "      <th>value</th>\n",
       "    </tr>\n",
       "  </thead>\n",
       "  <tbody>\n",
       "    <tr>\n",
       "      <th>0</th>\n",
       "      <td>1</td>\n",
       "      <td>ewmt</td>\n",
       "      <td>PTSD</td>\n",
       "      <td>1</td>\n",
       "      <td>NegVNeu_Pines</td>\n",
       "      <td>1.400655</td>\n",
       "    </tr>\n",
       "    <tr>\n",
       "      <th>1</th>\n",
       "      <td>2</td>\n",
       "      <td>ewmt</td>\n",
       "      <td>PTSD</td>\n",
       "      <td>0</td>\n",
       "      <td>NegVNeu_Pines</td>\n",
       "      <td>2.691830</td>\n",
       "    </tr>\n",
       "    <tr>\n",
       "      <th>2</th>\n",
       "      <td>3</td>\n",
       "      <td>ewmt</td>\n",
       "      <td>PTSD</td>\n",
       "      <td>1</td>\n",
       "      <td>NegVNeu_Pines</td>\n",
       "      <td>3.178128</td>\n",
       "    </tr>\n",
       "    <tr>\n",
       "      <th>3</th>\n",
       "      <td>4</td>\n",
       "      <td>ewmt</td>\n",
       "      <td>PTSD</td>\n",
       "      <td>1</td>\n",
       "      <td>NegVNeu_Pines</td>\n",
       "      <td>0.153922</td>\n",
       "    </tr>\n",
       "    <tr>\n",
       "      <th>4</th>\n",
       "      <td>5</td>\n",
       "      <td>ewmt</td>\n",
       "      <td>PTSD</td>\n",
       "      <td>0</td>\n",
       "      <td>NegVNeu_Pines</td>\n",
       "      <td>-0.222431</td>\n",
       "    </tr>\n",
       "  </tbody>\n",
       "</table>\n",
       "</div>"
      ],
      "text/plain": [
       "   ID study group  med_bin       variable     value\n",
       "0   1  ewmt  PTSD        1  NegVNeu_Pines  1.400655\n",
       "1   2  ewmt  PTSD        0  NegVNeu_Pines  2.691830\n",
       "2   3  ewmt  PTSD        1  NegVNeu_Pines  3.178128\n",
       "3   4  ewmt  PTSD        1  NegVNeu_Pines  0.153922\n",
       "4   5  ewmt  PTSD        0  NegVNeu_Pines -0.222431"
      ]
     },
     "execution_count": 102,
     "metadata": {},
     "output_type": "execute_result"
    }
   ],
   "source": [
    "data_run_avg_long = data_run_avg.melt(id_vars=['ID', 'study', 'group','med_bin'], value_vars=['NegVNeu_Pines', 'NegVNeu_FC', 'NegPines', 'NeutPines'])\n",
    "data_long = data.melt(id_vars=['ID', 'study', 'group','med_bin','run'], value_vars=['NegVNeu_Pines', 'NegVNeu_FC', 'NegPines', 'NeutPines'])\n",
    "\n",
    "print(data_run_avg_long['study'].unique())\n",
    "\n",
    "data_run_avg_long.head()\n"
   ]
  },
  {
   "cell_type": "code",
   "execution_count": 103,
   "metadata": {
    "ExecuteTime": {
     "end_time": "2021-02-11T04:37:27.720651Z",
     "start_time": "2021-02-11T04:37:27.645567Z"
    }
   },
   "outputs": [
    {
     "name": "stdout",
     "output_type": "stream",
     "text": [
      "\n",
      "STUDY: ewmt\n",
      "Formula: value~group\n",
      "\n",
      "Family: gaussian\t Estimator: OLS\n",
      "\n",
      "Std-errors: non-robust\tCIs: standard 95%\tInference: parametric \n",
      "\n",
      "Number of observations: 125\t R^2: 0.010\t R^2_adj: -0.006\n",
      "\n",
      "Log-likelihood: -227.098 \t AIC: 460.196\t BIC: 468.681\n",
      "\n",
      "Fixed effects:\n",
      "\n",
      "               Estimate  2.5_ci  97.5_ci     SE   DF  T-stat  P-val  Sig\n",
      "Intercept         1.766   1.247    2.285  0.262  122   6.733  0.000  ***\n",
      "group[T.PTSD]     0.255  -0.388    0.898  0.325  122   0.786  0.434     \n",
      "group[T.TC]      -0.084  -0.836    0.669  0.380  122  -0.221  0.826     \n",
      "\n",
      "STUDY: emoreg\n",
      "Formula: value~group\n",
      "\n",
      "Family: gaussian\t Estimator: OLS\n",
      "\n",
      "Std-errors: non-robust\tCIs: standard 95%\tInference: parametric \n",
      "\n",
      "Number of observations: 57\t R^2: 0.002\t R^2_adj: -0.016\n",
      "\n",
      "Log-likelihood: 42.957 \t AIC: -81.914\t BIC: -77.828\n",
      "\n",
      "Fixed effects:\n",
      "\n",
      "             Estimate  2.5_ci  97.5_ci     SE  DF  T-stat  P-val  Sig\n",
      "Intercept       0.439   0.396    0.482  0.022  55  20.400  0.000  ***\n",
      "group[T.HC]     0.011  -0.051    0.072  0.031  55   0.355  0.724     \n",
      "\n",
      "STUDY: react\n",
      "Formula: value~group\n",
      "\n",
      "Family: gaussian\t Estimator: OLS\n",
      "\n",
      "Std-errors: non-robust\tCIs: standard 95%\tInference: parametric \n",
      "\n",
      "Number of observations: 66\t R^2: 0.099\t R^2_adj: 0.070\n",
      "\n",
      "Log-likelihood: -63.049 \t AIC: 132.098\t BIC: 138.667\n",
      "\n",
      "Fixed effects:\n",
      "\n",
      "                   Estimate  2.5_ci  97.5_ci     SE  DF  T-stat  P-val  Sig\n",
      "Intercept             1.597   1.310    1.885  0.144  63  11.096  0.000  ***\n",
      "group[T.BPDremit]     0.395   0.013    0.778  0.191  63   2.064  0.043    *\n",
      "group[T.HC]           0.504   0.097    0.911  0.204  63   2.476  0.016    *\n"
     ]
    }
   ],
   "source": [
    "\n",
    "for study in data_run_avg_long['study'].unique():\n",
    "    print(f\"\\nSTUDY: {study}\")\n",
    "    model = Lm(\"value ~ group\", data=data_run_avg_long.query('variable==\"NegVNeu_Pines\"&study==@study'))\n",
    "\n",
    "    print(model.fit())"
   ]
  },
  {
   "cell_type": "code",
   "execution_count": 11,
   "metadata": {
    "ExecuteTime": {
     "end_time": "2021-02-11T03:24:39.514559Z",
     "start_time": "2021-02-11T03:24:39.072296Z"
    }
   },
   "outputs": [
    {
     "data": {
      "text/plain": [
       "<seaborn.axisgrid.FacetGrid at 0x7fa40de81110>"
      ]
     },
     "execution_count": 11,
     "metadata": {},
     "output_type": "execute_result"
    },
    {
     "data": {
      "image/png": "[encoded data removed]",
      "text/plain": [
       "<Figure size 444.625x360 with 1 Axes>"
      ]
     },
     "metadata": {
      "needs_background": "light"
     },
     "output_type": "display_data"
    }
   ],
   "source": [
    "sns.catplot(data=data, x='study', y='NegVNeu_Pines', hue='group', kind='bar')"
   ]
  },
  {
   "cell_type": "markdown",
   "metadata": {},
   "source": [
    "## Look at same comparison only with non-medicated participants"
   ]
  },
  {
   "cell_type": "code",
   "execution_count": 104,
   "metadata": {
    "ExecuteTime": {
     "end_time": "2021-02-11T04:37:32.984206Z",
     "start_time": "2021-02-11T04:37:32.877403Z"
    }
   },
   "outputs": [
    {
     "name": "stdout",
     "output_type": "stream",
     "text": [
      "\n",
      "STUDY: ewmt\n",
      "Formula: value~group\n",
      "\n",
      "Family: gaussian\t Estimator: OLS\n",
      "\n",
      "Std-errors: non-robust\tCIs: standard 95%\tInference: parametric \n",
      "\n",
      "Number of observations: 91\t R^2: 0.001\t R^2_adj: -0.021\n",
      "\n",
      "Log-likelihood: -153.357 \t AIC: 312.713\t BIC: 320.246\n",
      "\n",
      "Fixed effects:\n",
      "\n",
      "               Estimate  2.5_ci  97.5_ci     SE  DF  T-stat  P-val  Sig\n",
      "Intercept         1.766   1.307    2.225  0.231  88   7.644  0.000  ***\n",
      "group[T.PTSD]    -0.112  -0.790    0.565  0.341  88  -0.329  0.743     \n",
      "group[T.TC]      -0.084  -0.749    0.581  0.335  88  -0.251  0.803     \n",
      "\n",
      "STUDY: emoreg\n",
      "Formula: value~group\n",
      "\n",
      "Family: gaussian\t Estimator: OLS\n",
      "\n",
      "Std-errors: non-robust\tCIs: standard 95%\tInference: parametric \n",
      "\n",
      "Number of observations: 53\t R^2: 0.002\t R^2_adj: -0.018\n",
      "\n",
      "Log-likelihood: 38.532 \t AIC: -73.064\t BIC: -69.124\n",
      "\n",
      "Fixed effects:\n",
      "\n",
      "             Estimate  2.5_ci  97.5_ci     SE  DF  T-stat  P-val  Sig\n",
      "Intercept       0.441   0.393    0.488  0.024  51  18.477  0.000  ***\n",
      "group[T.HC]     0.010  -0.056    0.075  0.033  51   0.290  0.773     \n",
      "\n",
      "STUDY: react\n",
      "Formula: value~group\n",
      "\n",
      "Family: gaussian\t Estimator: OLS\n",
      "\n",
      "Std-errors: non-robust\tCIs: standard 95%\tInference: parametric \n",
      "\n",
      "Number of observations: 64\t R^2: 0.160\t R^2_adj: 0.133\n",
      "\n",
      "Log-likelihood: -55.032 \t AIC: 116.064\t BIC: 122.541\n",
      "\n",
      "Fixed effects:\n",
      "\n",
      "                   Estimate  2.5_ci  97.5_ci     SE  DF  T-stat  P-val  Sig\n",
      "Intercept             1.494   1.218    1.770  0.138  61  10.824  0.000  ***\n",
      "group[T.BPDremit]     0.498   0.139    0.857  0.180  61   2.776  0.007   **\n",
      "group[T.HC]           0.607   0.227    0.988  0.190  61   3.191  0.002   **\n"
     ]
    }
   ],
   "source": [
    "for study in data_run_avg_long['study'].unique():\n",
    "    print(f\"\\nSTUDY: {study}\")\n",
    "    model = Lm(\"value ~ group\", data=data_run_avg_long.query('variable==\"NegVNeu_Pines\"&study==@study&med_bin==\"0\"'))\n",
    "\n",
    "    print(model.fit())"
   ]
  },
  {
   "cell_type": "code",
   "execution_count": 105,
   "metadata": {
    "ExecuteTime": {
     "end_time": "2021-02-11T04:37:43.549661Z",
     "start_time": "2021-02-11T04:37:43.075496Z"
    }
   },
   "outputs": [
    {
     "data": {
      "text/plain": [
       "<seaborn.axisgrid.FacetGrid at 0x7fa41130e390>"
      ]
     },
     "execution_count": 105,
     "metadata": {},
     "output_type": "execute_result"
    },
    {
     "data": {
      "image/png": "[encoded data removed]",
      "text/plain": [
       "<Figure size 444.625x360 with 1 Axes>"
      ]
     },
     "metadata": {
      "needs_background": "light"
     },
     "output_type": "display_data"
    }
   ],
   "source": [
    "sns.catplot(data=data.query('med_bin==0'), x='study', y='NegVNeu_Pines', hue='group', kind='bar')"
   ]
  },
  {
   "cell_type": "code",
   "execution_count": null,
   "metadata": {},
   "outputs": [],
   "source": []
  }
 ],
 "metadata": {
  "kernelspec": {
   "display_name": "Python 3.7.7 64-bit ('base': conda)",
   "language": "python",
   "name": "python37764bitbaseconda668a19539d4e488a990d2e1ac0a9ce49"
  },
  "language_info": {
   "codemirror_mode": {
    "name": "ipython",
    "version": 3
   },
   "file_extension": ".py",
   "mimetype": "text/x-python",
   "name": "python",
   "nbconvert_exporter": "python",
   "pygments_lexer": "ipython3",
   "version": "3.7.9"
  },
  "toc": {
   "base_numbering": 1,
   "nav_menu": {},
   "number_sections": true,
   "sideBar": true,
   "skip_h1_title": false,
   "title_cell": "Table of Contents",
   "title_sidebar": "Contents",
   "toc_cell": false,
   "toc_position": {},
   "toc_section_display": true,
   "toc_window_display": true
  }
 },
 "nbformat": 4,
 "nbformat_minor": 4
}
